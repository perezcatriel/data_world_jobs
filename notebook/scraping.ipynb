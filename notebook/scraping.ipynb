{
 "cells": [
  {
   "cell_type": "markdown",
   "id": "6a0db4be-47f2-4b29-8ca9-480b75dc49e9",
   "metadata": {},
   "source": [
    "# Scraping sobre ai-jobs.net"
   ]
  },
  {
   "cell_type": "markdown",
   "id": "d191e2e1-4602-4265-930a-fe928356a630",
   "metadata": {},
   "source": [
    "## Librerias"
   ]
  },
  {
   "cell_type": "code",
   "execution_count": 1200,
   "id": "4cafa465-b2cc-4c6f-8a65-ba0f0cb430c2",
   "metadata": {
    "execution": {
     "iopub.execute_input": "2023-04-13T19:38:07.594739Z",
     "iopub.status.busy": "2023-04-13T19:38:07.594473Z",
     "iopub.status.idle": "2023-04-13T19:38:07.598283Z",
     "shell.execute_reply": "2023-04-13T19:38:07.597640Z",
     "shell.execute_reply.started": "2023-04-13T19:38:07.594718Z"
    },
    "tags": []
   },
   "outputs": [],
   "source": [
    "import requests\n",
    "from bs4 import BeautifulSoup\n",
    "import pandas as pd\n",
    "from itertools import zip_longest\n",
    "\n",
    "import missingno as msno\n",
    "\n",
    "from sklearn.preprocessing import LabelEncoder\n",
    "import re"
   ]
  },
  {
   "cell_type": "markdown",
   "id": "97a4833a-e187-45f7-836c-85d01c229203",
   "metadata": {},
   "source": [
    "## Conexión a JOBS_URL"
   ]
  },
  {
   "cell_type": "code",
   "execution_count": 1201,
   "id": "3977a7f9-e05b-4866-96e3-9b810bfbf372",
   "metadata": {
    "execution": {
     "iopub.execute_input": "2023-04-13T19:38:07.599687Z",
     "iopub.status.busy": "2023-04-13T19:38:07.599423Z",
     "iopub.status.idle": "2023-04-13T19:38:07.602966Z",
     "shell.execute_reply": "2023-04-13T19:38:07.602264Z",
     "shell.execute_reply.started": "2023-04-13T19:38:07.599668Z"
    },
    "tags": []
   },
   "outputs": [],
   "source": [
    "# pagina de ai-jobs.net sobre analyst, etc.\n",
    "JOBS_URL = 'https://ai-jobs.net/?cat=12&cat=10&cat=3&cat=6&cat=2&cat=5&cat=15&cat=16&key=&exp='"
   ]
  },
  {
   "cell_type": "code",
   "execution_count": 1202,
   "id": "89c2add0-b1ca-4051-b036-5b49af571c66",
   "metadata": {
    "execution": {
     "iopub.execute_input": "2023-04-13T19:38:07.604237Z",
     "iopub.status.busy": "2023-04-13T19:38:07.603979Z",
     "iopub.status.idle": "2023-04-13T19:38:09.207539Z",
     "shell.execute_reply": "2023-04-13T19:38:09.206220Z",
     "shell.execute_reply.started": "2023-04-13T19:38:07.604217Z"
    },
    "tags": []
   },
   "outputs": [],
   "source": [
    "# conectarse a la URL\n",
    "response = requests.get(JOBS_URL)"
   ]
  },
  {
   "cell_type": "code",
   "execution_count": 1203,
   "id": "6556c2c2-5cef-405f-b20f-a5b582bc89b0",
   "metadata": {
    "execution": {
     "iopub.execute_input": "2023-04-13T19:38:09.209863Z",
     "iopub.status.busy": "2023-04-13T19:38:09.209432Z",
     "iopub.status.idle": "2023-04-13T19:38:10.642978Z",
     "shell.execute_reply": "2023-04-13T19:38:10.641114Z",
     "shell.execute_reply.started": "2023-04-13T19:38:09.209820Z"
    },
    "tags": []
   },
   "outputs": [
    {
     "name": "stdout",
     "output_type": "stream",
     "text": [
      "Conectado...\n"
     ]
    }
   ],
   "source": [
    "try:\n",
    "    response = requests.get(JOBS_URL)\n",
    "    response.raise_for_status()  # Lanza una excepción si el código de estado no es 200\n",
    "    print('Conectado...')\n",
    "except requests.exceptions.HTTPError as err:\n",
    "    print(f'Error: {err}')\n",
    "except requests.exceptions.RequestException as e:\n",
    "    print(f'Error de conexión: {e}')"
   ]
  },
  {
   "cell_type": "markdown",
   "id": "d4d874ea-6d65-4b32-8dd6-a6d4709ffe92",
   "metadata": {},
   "source": [
    "## BeautifulSoup"
   ]
  },
  {
   "cell_type": "code",
   "execution_count": 1204,
   "id": "2dd3b96c-4443-49b5-a2e5-46f5e4ba0dc7",
   "metadata": {
    "execution": {
     "iopub.execute_input": "2023-04-13T19:38:10.646472Z",
     "iopub.status.busy": "2023-04-13T19:38:10.645700Z",
     "iopub.status.idle": "2023-04-13T19:38:10.802041Z",
     "shell.execute_reply": "2023-04-13T19:38:10.801490Z",
     "shell.execute_reply.started": "2023-04-13T19:38:10.646397Z"
    },
    "tags": []
   },
   "outputs": [],
   "source": [
    "soup = BeautifulSoup(response.content, 'html.parser')"
   ]
  },
  {
   "cell_type": "code",
   "execution_count": 1205,
   "id": "9bd7f6a5-b54f-4b1c-8e8c-54f831cdc21a",
   "metadata": {
    "execution": {
     "iopub.execute_input": "2023-04-13T19:38:10.803598Z",
     "iopub.status.busy": "2023-04-13T19:38:10.803404Z",
     "iopub.status.idle": "2023-04-13T19:38:10.818632Z",
     "shell.execute_reply": "2023-04-13T19:38:10.817998Z",
     "shell.execute_reply.started": "2023-04-13T19:38:10.803582Z"
    },
    "tags": []
   },
   "outputs": [
    {
     "data": {
      "text/plain": [
       "<li class=\"list-group-item list-group-item-action p-1\">\n",
       "<div class=\"row\">\n",
       "<div class=\"col-2 col-sm-1 py-2\">\n",
       "<a href=\"/jobs-at-the-wild-neighbors-database-project/\" title=\"Show all open positions at The Wild Neighbors Database Project\">\n",
       "<img alt=\"The Wild Neighbors Database Project logo\" class=\"mx-auto my-1 d-block\" height=\"48\" loading=\"lazy\" src=\"/media/cache/b3/99/b399910c288f467c84225492514893ba.jpg\" width=\"48\"/>\n",
       "</a>\n",
       "<div class=\"d-flex justify-content-center mt-3\">\n",
       "<a class=\"btn-direct-apply text-body-emphasis p-1\" href=\"mailto:devin.dombrowski@wildneighborsdp.org?subject=Remote%20AI/ML%20Engineer%20in%20Wildlife%20Conservation at The%20Wild%20Neighbors%20Database%20Project (via ai-jobs.net)\" id=\"47153\" title=\"Apply for this job directly via email: devin.dombrowski@wildneighborsdp.org\"><i class=\"fas fa-edit\"></i></a>\n",
       "<a class=\"btn-direct-apply text-body-emphasis p-1\" href=\"/job/mark/47153/create/\" rel=\"nofollow\" title=\"Save this job for later application\"><i class=\"fas fa-list-ol\"></i></a>\n",
       "</div>\n",
       "</div>\n",
       "<a class=\"col pt-2 pb-3\" href=\"/job/47153-remote-aiml-engineer-in-wildlife-conservation/\" title=\"View details for this job\">\n",
       "<div class=\"float-end text-end text-body d-inline-block w-25 ms-2\">\n",
       "<span class=\"d-block d-md-none text-break\">Remote, US</span>\n",
       "<span class=\"d-none d-md-block text-break\">Remote, US</span>\n",
       "<span class=\"badge rounded-pill text-bg-secondary my-md-1 ms-1\">Contract</span>\n",
       "<div class=\"d-block\">\n",
       "<span class=\"badge rounded-pill text-bg-info my-md-1 d-md-none\">Mid</span>\n",
       "<span class=\"badge rounded-pill text-bg-info my-md-1 d-none d-md-inline-block\">Mid-level</span>\n",
       "</div>\n",
       "<div class=\"d-block\">\n",
       "<span class=\"badge rounded-pill text-bg-success d-none d-md-inline-block\">USD 25K - 30K</span>\n",
       "<span class=\"badge rounded-pill text-bg-success d-md-none\">USD 25K+</span>\n",
       "</div>\n",
       "</div>\n",
       "<p class=\"m-0 text-muted\">The Wild Neighbors Database Project</p>\n",
       "<h3 class=\"h5 mb-2 text-body-emphasis\">Remote AI/ML Engineer in Wildlife Conservation</h3>\n",
       "<span class=\"badge rounded-pill text-bg-light\">APIs</span>\n",
       "<span class=\"badge rounded-pill text-bg-light\">Classification</span>\n",
       "<span class=\"badge rounded-pill text-bg-light\">Data management</span>\n",
       "<span class=\"badge rounded-pill text-bg-light\">GitHub</span>\n",
       "<span class=\"badge rounded-pill text-bg-light\">Keras</span>\n",
       "<span class=\"badge rounded-pill text-bg-light\">Machine Learning</span>\n",
       "<span class=\"badge rounded-pill text-bg-light\">ML models</span>\n",
       "<span class=\"badge rounded-pill text-bg-light\">+6</span>\n",
       "<br/>\n",
       "<span class=\"badge rounded-pill text-bg-success\">Career development</span>\n",
       "<span class=\"badge rounded-pill text-bg-success\">Health care</span>\n",
       "</a>\n",
       "</div>\n",
       "</li>"
      ]
     },
     "execution_count": 1205,
     "metadata": {},
     "output_type": "execute_result"
    }
   ],
   "source": [
    "results = soup.find('ul', {'class':'list-group list-group-flush mb-4'}).find_all('li', {'class': 'list-group-item list-group-item-action p-1'})\n",
    "\n",
    "results[0]"
   ]
  },
  {
   "cell_type": "markdown",
   "id": "17f2c656-209c-4813-bdaf-3f8d9ac2ae69",
   "metadata": {},
   "source": [
    "### Glosario\n",
    "- jobs_title = publicacion de trabajo\n",
    "- level = Senior, Junior, etc\n",
    "- job_type = fulltime, freelance, etc\n",
    "- salary_range = en dolar\n",
    "- benefits = beneficios auxiliares\n",
    "- onsite_remote = si es o no remoto\n",
    "- category_name =  data engineer, etc\n",
    "- company_name = nombre de la empresa\n",
    "- location_name = pais\n",
    "- skill_name = python, sql, etc"
   ]
  },
  {
   "cell_type": "markdown",
   "id": "118ece2e-88c6-40d8-90a1-a1b55d939d3f",
   "metadata": {},
   "source": [
    "### Buscamos uno por uno las etiquetas"
   ]
  },
  {
   "cell_type": "code",
   "execution_count": 1206,
   "id": "805d28a4-66a8-447b-ab6f-97f7bfcb1a6d",
   "metadata": {
    "execution": {
     "iopub.execute_input": "2023-04-13T19:38:10.820269Z",
     "iopub.status.busy": "2023-04-13T19:38:10.819903Z",
     "iopub.status.idle": "2023-04-13T19:38:10.825263Z",
     "shell.execute_reply": "2023-04-13T19:38:10.824470Z",
     "shell.execute_reply.started": "2023-04-13T19:38:10.820235Z"
    },
    "tags": []
   },
   "outputs": [
    {
     "data": {
      "text/plain": [
       "'Remote AI/ML Engineer in Wildlife Conservation'"
      ]
     },
     "execution_count": 1206,
     "metadata": {},
     "output_type": "execute_result"
    }
   ],
   "source": [
    "jobs_title = results[0].find('h3', {'class': 'h5 mb-2 text-body-emphasis'}).get_text()\n",
    "jobs_title"
   ]
  },
  {
   "cell_type": "code",
   "execution_count": 1207,
   "id": "43362ac9-f333-4754-8f49-66431a568959",
   "metadata": {
    "execution": {
     "iopub.execute_input": "2023-04-13T19:38:10.826501Z",
     "iopub.status.busy": "2023-04-13T19:38:10.826215Z",
     "iopub.status.idle": "2023-04-13T19:38:10.831394Z",
     "shell.execute_reply": "2023-04-13T19:38:10.830687Z",
     "shell.execute_reply.started": "2023-04-13T19:38:10.826471Z"
    },
    "tags": []
   },
   "outputs": [
    {
     "data": {
      "text/plain": [
       "'Senior-level'"
      ]
     },
     "execution_count": 1207,
     "metadata": {},
     "output_type": "execute_result"
    }
   ],
   "source": [
    "level = results[1].find('span', {'class': 'badge rounded-pill text-bg-info my-md-1 d-none d-md-inline-block'}).get_text()\n",
    "level"
   ]
  },
  {
   "cell_type": "code",
   "execution_count": 1208,
   "id": "458dfbf2-926d-416f-abca-d7d87d05e05b",
   "metadata": {
    "execution": {
     "iopub.execute_input": "2023-04-13T19:38:10.832515Z",
     "iopub.status.busy": "2023-04-13T19:38:10.832236Z",
     "iopub.status.idle": "2023-04-13T19:38:10.837969Z",
     "shell.execute_reply": "2023-04-13T19:38:10.837301Z",
     "shell.execute_reply.started": "2023-04-13T19:38:10.832489Z"
    },
    "tags": []
   },
   "outputs": [
    {
     "data": {
      "text/plain": [
       "'Contract'"
      ]
     },
     "execution_count": 1208,
     "metadata": {},
     "output_type": "execute_result"
    }
   ],
   "source": [
    "job_type = results[0].find('span', {'class': 'badge rounded-pill text-bg-secondary my-md-1 ms-1'}).get_text()\n",
    "job_type"
   ]
  },
  {
   "cell_type": "code",
   "execution_count": 1209,
   "id": "30e201cc-c5b4-412c-83b8-747154159247",
   "metadata": {
    "execution": {
     "iopub.execute_input": "2023-04-13T19:38:10.838966Z",
     "iopub.status.busy": "2023-04-13T19:38:10.838780Z",
     "iopub.status.idle": "2023-04-13T19:38:10.843349Z",
     "shell.execute_reply": "2023-04-13T19:38:10.842653Z",
     "shell.execute_reply.started": "2023-04-13T19:38:10.838949Z"
    },
    "tags": []
   },
   "outputs": [
    {
     "data": {
      "text/plain": [
       "'USD 25K - 30K'"
      ]
     },
     "execution_count": 1209,
     "metadata": {},
     "output_type": "execute_result"
    }
   ],
   "source": [
    "salary_range = results[0].find('span', {'class': 'badge rounded-pill text-bg-success d-none d-md-inline-block'}).get_text()\n",
    "salary_range"
   ]
  },
  {
   "cell_type": "code",
   "execution_count": 1210,
   "id": "23b6d625-0756-4527-8593-3beb8941bf38",
   "metadata": {
    "execution": {
     "iopub.execute_input": "2023-04-13T19:38:10.844314Z",
     "iopub.status.busy": "2023-04-13T19:38:10.844035Z",
     "iopub.status.idle": "2023-04-13T19:38:10.847745Z",
     "shell.execute_reply": "2023-04-13T19:38:10.847102Z",
     "shell.execute_reply.started": "2023-04-13T19:38:10.844292Z"
    },
    "tags": []
   },
   "outputs": [],
   "source": [
    "# tener cuidado con los datos faltantes\n",
    "def benefits_list():\n",
    "    for result in results:\n",
    "        benefits = results[4].find_all('span', {'class': 'badge rounded-pill text-bg-success'})\n",
    "    for benefit in benefits:\n",
    "        print(benefit.get_text())\n",
    "# benefits"
   ]
  },
  {
   "cell_type": "code",
   "execution_count": 1211,
   "id": "79f2740c-ed8f-4d4c-b5d4-dde93ad2b182",
   "metadata": {
    "execution": {
     "iopub.execute_input": "2023-04-13T19:38:10.850011Z",
     "iopub.status.busy": "2023-04-13T19:38:10.849827Z",
     "iopub.status.idle": "2023-04-13T19:38:10.852918Z",
     "shell.execute_reply": "2023-04-13T19:38:10.851944Z",
     "shell.execute_reply.started": "2023-04-13T19:38:10.849995Z"
    }
   },
   "outputs": [],
   "source": [
    "# En esta pagina se encuentra en el dato del pais. hay que encontrar esa \"remote\" en la seccion de location_name\n",
    "# onsite_remote"
   ]
  },
  {
   "cell_type": "code",
   "execution_count": 1212,
   "id": "a77e2cea-8abf-4d02-9a71-df73c440d41f",
   "metadata": {
    "execution": {
     "iopub.execute_input": "2023-04-13T19:38:10.854085Z",
     "iopub.status.busy": "2023-04-13T19:38:10.853818Z",
     "iopub.status.idle": "2023-04-13T19:38:10.857197Z",
     "shell.execute_reply": "2023-04-13T19:38:10.856470Z",
     "shell.execute_reply.started": "2023-04-13T19:38:10.854061Z"
    }
   },
   "outputs": [],
   "source": [
    "# Hay que encontrarlo dentro de \"jobs_title\"\n",
    "# category_name"
   ]
  },
  {
   "cell_type": "code",
   "execution_count": 1213,
   "id": "0c62e01b-da7f-4411-bfc1-5d2c7a4883ab",
   "metadata": {
    "execution": {
     "iopub.execute_input": "2023-04-13T19:38:10.858622Z",
     "iopub.status.busy": "2023-04-13T19:38:10.858051Z",
     "iopub.status.idle": "2023-04-13T19:38:10.862425Z",
     "shell.execute_reply": "2023-04-13T19:38:10.861993Z",
     "shell.execute_reply.started": "2023-04-13T19:38:10.858598Z"
    },
    "tags": []
   },
   "outputs": [
    {
     "data": {
      "text/plain": [
       "'White Wind Research'"
      ]
     },
     "execution_count": 1213,
     "metadata": {},
     "output_type": "execute_result"
    }
   ],
   "source": [
    "company_name = results[1].find('p', {'class': 'm-0 text-muted'}).get_text()\n",
    "company_name"
   ]
  },
  {
   "cell_type": "code",
   "execution_count": 1214,
   "id": "8e633300-20cd-4055-8add-8cb91f68c8b5",
   "metadata": {
    "execution": {
     "iopub.execute_input": "2023-04-13T19:38:10.863227Z",
     "iopub.status.busy": "2023-04-13T19:38:10.863055Z",
     "iopub.status.idle": "2023-04-13T19:38:10.866821Z",
     "shell.execute_reply": "2023-04-13T19:38:10.866324Z",
     "shell.execute_reply.started": "2023-04-13T19:38:10.863212Z"
    },
    "tags": []
   },
   "outputs": [
    {
     "data": {
      "text/plain": [
       "'Remote, US'"
      ]
     },
     "execution_count": 1214,
     "metadata": {},
     "output_type": "execute_result"
    }
   ],
   "source": [
    "location_name = results[0].find('span', {'class': 'd-none d-md-block text-break'}).get_text()\n",
    "location_name"
   ]
  },
  {
   "cell_type": "code",
   "execution_count": 1215,
   "id": "4f81596c-3e13-4cef-a384-4316a66f49b4",
   "metadata": {
    "execution": {
     "iopub.execute_input": "2023-04-13T19:38:10.867574Z",
     "iopub.status.busy": "2023-04-13T19:38:10.867393Z",
     "iopub.status.idle": "2023-04-13T19:38:10.885504Z",
     "shell.execute_reply": "2023-04-13T19:38:10.884807Z",
     "shell.execute_reply.started": "2023-04-13T19:38:10.867556Z"
    },
    "tags": []
   },
   "outputs": [
    {
     "name": "stdout",
     "output_type": "stream",
     "text": [
      "Machine Learning\n",
      "Research\n"
     ]
    }
   ],
   "source": [
    "for result in results:\n",
    "    skill_names = result.find_all('span', {'class': 'badge rounded-pill text-bg-light'})\n",
    "for skill_name in skill_names:\n",
    "    print(skill_name.get_text())\n",
    "# skill_names"
   ]
  },
  {
   "cell_type": "code",
   "execution_count": 1216,
   "id": "f85f418a-1057-4c2f-a98e-6fed75db8348",
   "metadata": {
    "execution": {
     "iopub.execute_input": "2023-04-13T19:38:10.886741Z",
     "iopub.status.busy": "2023-04-13T19:38:10.886487Z",
     "iopub.status.idle": "2023-04-13T19:38:10.890197Z",
     "shell.execute_reply": "2023-04-13T19:38:10.889427Z",
     "shell.execute_reply.started": "2023-04-13T19:38:10.886718Z"
    }
   },
   "outputs": [],
   "source": [
    "### Crear un DataFrame con las etiquetas que se vieron arriba"
   ]
  },
  {
   "cell_type": "code",
   "execution_count": 1217,
   "id": "8eb581b5-bbe9-48bf-82ee-475d7bd37a01",
   "metadata": {
    "execution": {
     "iopub.execute_input": "2023-04-13T19:38:10.891193Z",
     "iopub.status.busy": "2023-04-13T19:38:10.890972Z",
     "iopub.status.idle": "2023-04-13T19:38:10.895476Z",
     "shell.execute_reply": "2023-04-13T19:38:10.894795Z",
     "shell.execute_reply.started": "2023-04-13T19:38:10.891172Z"
    },
    "tags": []
   },
   "outputs": [],
   "source": [
    "# Crear Listas\n",
    "\n",
    "# tabla fact\n",
    "job_title = []\n",
    "level = []\n",
    "job_type = []\n",
    "salary_range = []\n",
    "benefits = []\n",
    "onsite_remote = []\n",
    "\n",
    "# tablas dims\n",
    "company_name = []\n",
    "location_name = []\n",
    "category_name = []\n",
    "skill_name = []"
   ]
  },
  {
   "cell_type": "code",
   "execution_count": 1218,
   "id": "76159413-d58f-480b-bc8f-d45eccbfbb3a",
   "metadata": {
    "execution": {
     "iopub.execute_input": "2023-04-13T19:38:10.896905Z",
     "iopub.status.busy": "2023-04-13T19:38:10.896386Z",
     "iopub.status.idle": "2023-04-13T19:38:10.964143Z",
     "shell.execute_reply": "2023-04-13T19:38:10.963659Z",
     "shell.execute_reply.started": "2023-04-13T19:38:10.896881Z"
    },
    "tags": []
   },
   "outputs": [
    {
     "name": "stdout",
     "output_type": "stream",
     "text": [
      "APIs, Classification, Data management, GitHub, Keras, Machine Learning, ML models, +6\n"
     ]
    }
   ],
   "source": [
    "# Crear un loop para extraer cada fila de data\n",
    "for result in results:\n",
    "    try:\n",
    "        job_title.append(result.find('h3', {'class': 'h5 mb-2 text-body-emphasis'}).get_text()) \n",
    "    except:\n",
    "        job_title.append('n/a')\n",
    "    \n",
    "    try:\n",
    "        level.append(result.find('span', {'class': 'badge rounded-pill text-bg-info my-md-1 d-none d-md-inline-block'}).get_text()) \n",
    "    except:\n",
    "        level.append('n/a')\n",
    "    \n",
    "    try:\n",
    "        job_type.append(result.find('span', {'class': 'badge rounded-pill text-bg-secondary my-md-1 ms-1'}).get_text()) \n",
    "    except:\n",
    "        job_type.append('n/a')\n",
    "    \n",
    "    \n",
    "    try:\n",
    "        salary_range.append(result.find('span', {'class': 'badge rounded-pill text-bg-success d-none d-md-inline-block'}).get_text()) \n",
    "    except:\n",
    "        salary_range.append('n/a')\n",
    "    \n",
    "    try:\n",
    "        benefits_list = [x.get_text() for x in result.find_all('span', {'class': 'badge rounded-pill text-bg-success'})]\n",
    "        if not benefits_list:\n",
    "            benefits.append('n/a')\n",
    "        else:\n",
    "            benefits_str = ', '.join(benefits_list)\n",
    "            benefits.append(benefits_str)\n",
    "    except:\n",
    "        benefits.append('n/a')\n",
    "\n",
    "    \n",
    "    \n",
    "    \n",
    "    \n",
    "    try:\n",
    "        company_name.append(result.find('p', {'class': 'm-0 text-muted'}).get_text()) \n",
    "    except:\n",
    "        company_name.append('n/a')\n",
    "    \n",
    "    try:\n",
    "        location_name.append(result.find('span', {'class': 'd-none d-md-block text-break'}).get_text()) \n",
    "    except:\n",
    "        location_name.append('n/a')\n",
    "    \n",
    "    try:\n",
    "        skill_name_list = [x.get_text() for x in result.find_all('span', {'class': 'badge rounded-pill text-bg-light'})]\n",
    "        if not skill_name_list:\n",
    "            skill_name.append('n/a')\n",
    "        else:\n",
    "            skill_name_str = ', '.join(skill_name_list)\n",
    "            skill_name.append(skill_name_str)\n",
    "    except:\n",
    "        skill_name.append('n/a')\n",
    "    \n",
    "    # try:\n",
    "    #     skill_name.append([x.get_text() for x in result.find_all('span', {'class': 'badge rounded-pill text-bg-light'})])\n",
    "    # except:\n",
    "    #     skill_name.append('n/a')\n",
    "print(skill_name[0])"
   ]
  },
  {
   "cell_type": "markdown",
   "id": "22ca815c-26eb-4041-ab01-1c4890b2fa9b",
   "metadata": {},
   "source": [
    "### Tabla"
   ]
  },
  {
   "cell_type": "code",
   "execution_count": 1219,
   "id": "df0b971c-fe24-4304-aec0-87ed02a1933f",
   "metadata": {
    "execution": {
     "iopub.execute_input": "2023-04-13T19:38:10.965129Z",
     "iopub.status.busy": "2023-04-13T19:38:10.964873Z",
     "iopub.status.idle": "2023-04-13T19:38:10.970438Z",
     "shell.execute_reply": "2023-04-13T19:38:10.969623Z",
     "shell.execute_reply.started": "2023-04-13T19:38:10.965105Z"
    },
    "tags": []
   },
   "outputs": [],
   "source": [
    "# Agrupar listas en tuplas con zip_longest\n",
    "data = zip_longest(job_title, level, job_type, salary_range, benefits, company_name, location_name, skill_name)\n",
    "\n",
    "# Crear DataFrame directamente desde las tuplas\n",
    "df = pd.DataFrame(data, columns=['job_title', 'level', 'job_type', 'salary_range', 'benefits', 'company_name', 'location_name', 'skill_name'])"
   ]
  },
  {
   "cell_type": "code",
   "execution_count": 1220,
   "id": "60cf8b52-a1fc-4227-98e5-3cf2a1ede19b",
   "metadata": {
    "execution": {
     "iopub.execute_input": "2023-04-13T19:38:10.971602Z",
     "iopub.status.busy": "2023-04-13T19:38:10.971339Z",
     "iopub.status.idle": "2023-04-13T19:38:10.978627Z",
     "shell.execute_reply": "2023-04-13T19:38:10.977889Z",
     "shell.execute_reply.started": "2023-04-13T19:38:10.971576Z"
    },
    "tags": []
   },
   "outputs": [],
   "source": [
    "data = []\n",
    "\n",
    "for row in df.itertuples(index=False):\n",
    "    data.append(list(row))\n",
    "\n",
    "data = list(zip_longest(*data, fillvalue='n/a')) \n",
    "\n",
    "JOB = pd.DataFrame({\n",
    "    'job_title': data[0],\n",
    "    'level': data[1],\n",
    "    'job_type': data[2],\n",
    "    'salary_range': data[3],\n",
    "    'benefits': data[4],\n",
    "    'company_name': data[5],\n",
    "    'location_name': data[6],\n",
    "    'skill_name': data[7]\n",
    "})"
   ]
  },
  {
   "cell_type": "code",
   "execution_count": null,
   "id": "5c020540-ab2d-44ab-aaa5-df2566e24801",
   "metadata": {
    "tags": []
   },
   "outputs": [],
   "source": []
  },
  {
   "cell_type": "code",
   "execution_count": 1221,
   "id": "83ed1dbb-0d0f-4caf-af5d-d45d3c732904",
   "metadata": {
    "execution": {
     "iopub.execute_input": "2023-04-13T19:38:10.979531Z",
     "iopub.status.busy": "2023-04-13T19:38:10.979339Z",
     "iopub.status.idle": "2023-04-13T19:38:10.982407Z",
     "shell.execute_reply": "2023-04-13T19:38:10.981796Z",
     "shell.execute_reply.started": "2023-04-13T19:38:10.979513Z"
    },
    "tags": []
   },
   "outputs": [],
   "source": [
    "# print(JOB)"
   ]
  },
  {
   "cell_type": "markdown",
   "id": "8d804a52-99e2-4e5b-9135-37d49ce50659",
   "metadata": {},
   "source": [
    "## Normalizacón"
   ]
  },
  {
   "cell_type": "code",
   "execution_count": 1222,
   "id": "628d64dd-70dc-47f2-b679-97fbf9edbe5b",
   "metadata": {
    "execution": {
     "iopub.execute_input": "2023-04-13T19:38:10.983370Z",
     "iopub.status.busy": "2023-04-13T19:38:10.983168Z",
     "iopub.status.idle": "2023-04-13T19:38:10.993721Z",
     "shell.execute_reply": "2023-04-13T19:38:10.992896Z",
     "shell.execute_reply.started": "2023-04-13T19:38:10.983353Z"
    },
    "tags": []
   },
   "outputs": [
    {
     "name": "stdout",
     "output_type": "stream",
     "text": [
      "<class 'pandas.core.frame.DataFrame'>\n",
      "RangeIndex: 95 entries, 0 to 94\n",
      "Data columns (total 8 columns):\n",
      " #   Column         Non-Null Count  Dtype \n",
      "---  ------         --------------  ----- \n",
      " 0   job_title      95 non-null     object\n",
      " 1   level          95 non-null     object\n",
      " 2   job_type       95 non-null     object\n",
      " 3   salary_range   95 non-null     object\n",
      " 4   benefits       95 non-null     object\n",
      " 5   company_name   95 non-null     object\n",
      " 6   location_name  95 non-null     object\n",
      " 7   skill_name     95 non-null     object\n",
      "dtypes: object(8)\n",
      "memory usage: 6.1+ KB\n"
     ]
    }
   ],
   "source": [
    "JOB.info()"
   ]
  },
  {
   "cell_type": "code",
   "execution_count": 1223,
   "id": "5929ab5e-8a8f-4ef6-9c77-6d482c9132f1",
   "metadata": {
    "execution": {
     "iopub.execute_input": "2023-04-13T19:38:10.994621Z",
     "iopub.status.busy": "2023-04-13T19:38:10.994434Z",
     "iopub.status.idle": "2023-04-13T19:38:11.003790Z",
     "shell.execute_reply": "2023-04-13T19:38:11.002937Z",
     "shell.execute_reply.started": "2023-04-13T19:38:10.994603Z"
    },
    "tags": []
   },
   "outputs": [
    {
     "data": {
      "text/html": [
       "<div>\n",
       "<style scoped>\n",
       "    .dataframe tbody tr th:only-of-type {\n",
       "        vertical-align: middle;\n",
       "    }\n",
       "\n",
       "    .dataframe tbody tr th {\n",
       "        vertical-align: top;\n",
       "    }\n",
       "\n",
       "    .dataframe thead th {\n",
       "        text-align: right;\n",
       "    }\n",
       "</style>\n",
       "<table border=\"1\" class=\"dataframe\">\n",
       "  <thead>\n",
       "    <tr style=\"text-align: right;\">\n",
       "      <th></th>\n",
       "      <th>job_title</th>\n",
       "      <th>level</th>\n",
       "      <th>job_type</th>\n",
       "      <th>salary_range</th>\n",
       "      <th>benefits</th>\n",
       "      <th>company_name</th>\n",
       "      <th>location_name</th>\n",
       "      <th>skill_name</th>\n",
       "    </tr>\n",
       "  </thead>\n",
       "  <tbody>\n",
       "    <tr>\n",
       "      <th>0</th>\n",
       "      <td>False</td>\n",
       "      <td>False</td>\n",
       "      <td>False</td>\n",
       "      <td>False</td>\n",
       "      <td>False</td>\n",
       "      <td>False</td>\n",
       "      <td>False</td>\n",
       "      <td>False</td>\n",
       "    </tr>\n",
       "    <tr>\n",
       "      <th>1</th>\n",
       "      <td>False</td>\n",
       "      <td>False</td>\n",
       "      <td>False</td>\n",
       "      <td>False</td>\n",
       "      <td>False</td>\n",
       "      <td>False</td>\n",
       "      <td>False</td>\n",
       "      <td>False</td>\n",
       "    </tr>\n",
       "    <tr>\n",
       "      <th>2</th>\n",
       "      <td>False</td>\n",
       "      <td>False</td>\n",
       "      <td>False</td>\n",
       "      <td>False</td>\n",
       "      <td>False</td>\n",
       "      <td>False</td>\n",
       "      <td>False</td>\n",
       "      <td>False</td>\n",
       "    </tr>\n",
       "    <tr>\n",
       "      <th>3</th>\n",
       "      <td>False</td>\n",
       "      <td>False</td>\n",
       "      <td>False</td>\n",
       "      <td>False</td>\n",
       "      <td>False</td>\n",
       "      <td>False</td>\n",
       "      <td>False</td>\n",
       "      <td>False</td>\n",
       "    </tr>\n",
       "    <tr>\n",
       "      <th>4</th>\n",
       "      <td>False</td>\n",
       "      <td>False</td>\n",
       "      <td>False</td>\n",
       "      <td>False</td>\n",
       "      <td>False</td>\n",
       "      <td>False</td>\n",
       "      <td>False</td>\n",
       "      <td>False</td>\n",
       "    </tr>\n",
       "    <tr>\n",
       "      <th>...</th>\n",
       "      <td>...</td>\n",
       "      <td>...</td>\n",
       "      <td>...</td>\n",
       "      <td>...</td>\n",
       "      <td>...</td>\n",
       "      <td>...</td>\n",
       "      <td>...</td>\n",
       "      <td>...</td>\n",
       "    </tr>\n",
       "    <tr>\n",
       "      <th>90</th>\n",
       "      <td>False</td>\n",
       "      <td>False</td>\n",
       "      <td>False</td>\n",
       "      <td>False</td>\n",
       "      <td>False</td>\n",
       "      <td>False</td>\n",
       "      <td>False</td>\n",
       "      <td>False</td>\n",
       "    </tr>\n",
       "    <tr>\n",
       "      <th>91</th>\n",
       "      <td>False</td>\n",
       "      <td>False</td>\n",
       "      <td>False</td>\n",
       "      <td>False</td>\n",
       "      <td>False</td>\n",
       "      <td>False</td>\n",
       "      <td>False</td>\n",
       "      <td>False</td>\n",
       "    </tr>\n",
       "    <tr>\n",
       "      <th>92</th>\n",
       "      <td>False</td>\n",
       "      <td>False</td>\n",
       "      <td>False</td>\n",
       "      <td>False</td>\n",
       "      <td>False</td>\n",
       "      <td>False</td>\n",
       "      <td>False</td>\n",
       "      <td>False</td>\n",
       "    </tr>\n",
       "    <tr>\n",
       "      <th>93</th>\n",
       "      <td>False</td>\n",
       "      <td>False</td>\n",
       "      <td>False</td>\n",
       "      <td>False</td>\n",
       "      <td>False</td>\n",
       "      <td>False</td>\n",
       "      <td>False</td>\n",
       "      <td>False</td>\n",
       "    </tr>\n",
       "    <tr>\n",
       "      <th>94</th>\n",
       "      <td>False</td>\n",
       "      <td>False</td>\n",
       "      <td>False</td>\n",
       "      <td>False</td>\n",
       "      <td>False</td>\n",
       "      <td>False</td>\n",
       "      <td>False</td>\n",
       "      <td>False</td>\n",
       "    </tr>\n",
       "  </tbody>\n",
       "</table>\n",
       "<p>95 rows × 8 columns</p>\n",
       "</div>"
      ],
      "text/plain": [
       "    job_title  level  job_type  salary_range  benefits  company_name  \\\n",
       "0       False  False     False         False     False         False   \n",
       "1       False  False     False         False     False         False   \n",
       "2       False  False     False         False     False         False   \n",
       "3       False  False     False         False     False         False   \n",
       "4       False  False     False         False     False         False   \n",
       "..        ...    ...       ...           ...       ...           ...   \n",
       "90      False  False     False         False     False         False   \n",
       "91      False  False     False         False     False         False   \n",
       "92      False  False     False         False     False         False   \n",
       "93      False  False     False         False     False         False   \n",
       "94      False  False     False         False     False         False   \n",
       "\n",
       "    location_name  skill_name  \n",
       "0           False       False  \n",
       "1           False       False  \n",
       "2           False       False  \n",
       "3           False       False  \n",
       "4           False       False  \n",
       "..            ...         ...  \n",
       "90          False       False  \n",
       "91          False       False  \n",
       "92          False       False  \n",
       "93          False       False  \n",
       "94          False       False  \n",
       "\n",
       "[95 rows x 8 columns]"
      ]
     },
     "execution_count": 1223,
     "metadata": {},
     "output_type": "execute_result"
    }
   ],
   "source": [
    "JOB.isnull()"
   ]
  },
  {
   "cell_type": "code",
   "execution_count": 1224,
   "id": "c7760ea2-3997-4d49-8368-47795e63b043",
   "metadata": {
    "execution": {
     "iopub.execute_input": "2023-04-13T19:38:11.004640Z",
     "iopub.status.busy": "2023-04-13T19:38:11.004453Z",
     "iopub.status.idle": "2023-04-13T19:38:11.409034Z",
     "shell.execute_reply": "2023-04-13T19:38:11.408455Z",
     "shell.execute_reply.started": "2023-04-13T19:38:11.004624Z"
    }
   },
   "outputs": [
    {
     "data": {
      "text/plain": [
       "<Axes: >"
      ]
     },
     "execution_count": 1224,
     "metadata": {},
     "output_type": "execute_result"
    },
    {
     "data": {
      "image/png": "[encoded data removed]",
      "text/plain": [
       "<Figure size 2500x1000 with 2 Axes>"
      ]
     },
     "metadata": {},
     "output_type": "display_data"
    }
   ],
   "source": [
    "# Visualizar los valores nulos en el dataframe\n",
    "msno.matrix(df)"
   ]
  },
  {
   "cell_type": "markdown",
   "id": "d6e42e02-ec8c-4c51-b568-36961eb9e387",
   "metadata": {},
   "source": [
    "No tiene datos Nulos ya que en el scraping se establecio que si estaba nulo se llene con \"n/a\""
   ]
  },
  {
   "cell_type": "code",
   "execution_count": 1225,
   "id": "73b4b99c-4d85-488b-b7f6-1b1274c9401a",
   "metadata": {
    "execution": {
     "iopub.execute_input": "2023-04-13T19:38:11.410404Z",
     "iopub.status.busy": "2023-04-13T19:38:11.409942Z",
     "iopub.status.idle": "2023-04-13T19:38:11.415343Z",
     "shell.execute_reply": "2023-04-13T19:38:11.414532Z",
     "shell.execute_reply.started": "2023-04-13T19:38:11.410376Z"
    },
    "tags": []
   },
   "outputs": [],
   "source": [
    "# todo a minusculas\n",
    "JOB = JOB.applymap(lambda x: x.lower() if type(x) == str else x)"
   ]
  },
  {
   "cell_type": "code",
   "execution_count": 1226,
   "id": "7d635505-5c1c-447d-b86a-784cb8e7fb68",
   "metadata": {
    "execution": {
     "iopub.execute_input": "2023-04-13T19:38:11.416554Z",
     "iopub.status.busy": "2023-04-13T19:38:11.416181Z",
     "iopub.status.idle": "2023-04-13T19:38:11.424206Z",
     "shell.execute_reply": "2023-04-13T19:38:11.423393Z",
     "shell.execute_reply.started": "2023-04-13T19:38:11.416524Z"
    },
    "tags": []
   },
   "outputs": [
    {
     "data": {
      "text/html": [
       "<div>\n",
       "<style scoped>\n",
       "    .dataframe tbody tr th:only-of-type {\n",
       "        vertical-align: middle;\n",
       "    }\n",
       "\n",
       "    .dataframe tbody tr th {\n",
       "        vertical-align: top;\n",
       "    }\n",
       "\n",
       "    .dataframe thead th {\n",
       "        text-align: right;\n",
       "    }\n",
       "</style>\n",
       "<table border=\"1\" class=\"dataframe\">\n",
       "  <thead>\n",
       "    <tr style=\"text-align: right;\">\n",
       "      <th></th>\n",
       "      <th>job_title</th>\n",
       "      <th>level</th>\n",
       "      <th>job_type</th>\n",
       "      <th>salary_range</th>\n",
       "      <th>benefits</th>\n",
       "      <th>company_name</th>\n",
       "      <th>location_name</th>\n",
       "      <th>skill_name</th>\n",
       "    </tr>\n",
       "  </thead>\n",
       "  <tbody>\n",
       "  </tbody>\n",
       "</table>\n",
       "</div>"
      ],
      "text/plain": [
       "Empty DataFrame\n",
       "Columns: [job_title, level, job_type, salary_range, benefits, company_name, location_name, skill_name]\n",
       "Index: []"
      ]
     },
     "execution_count": 1226,
     "metadata": {},
     "output_type": "execute_result"
    }
   ],
   "source": [
    "JOB.head(0)"
   ]
  },
  {
   "cell_type": "code",
   "execution_count": 1227,
   "id": "b540c6e1-659a-4500-9140-3feea50b0530",
   "metadata": {
    "execution": {
     "iopub.execute_input": "2023-04-13T19:38:11.425756Z",
     "iopub.status.busy": "2023-04-13T19:38:11.425368Z",
     "iopub.status.idle": "2023-04-13T19:38:11.432704Z",
     "shell.execute_reply": "2023-04-13T19:38:11.432062Z",
     "shell.execute_reply.started": "2023-04-13T19:38:11.425720Z"
    },
    "tags": []
   },
   "outputs": [],
   "source": [
    "# Rango salarial. Agregar una nueva columna salary_avg que contenga el promedio del rango en tipo de dato float\n",
    "def get_salary_avg(salary_range):\n",
    "    \"\"\"\n",
    "    Función para extraer los valores numéricos de la cadena y calcular el promedio.\n",
    "    \"\"\"\n",
    "    # Extraer los valores numéricos\n",
    "    salaries = re.findall(r'\\d+', salary_range)\n",
    "    \n",
    "    # Calcular el promedio\n",
    "    if len(salaries) == 2:\n",
    "        salary_avg = (int(salaries[0]) + int(salaries[1])) / 2\n",
    "    else:\n",
    "        salary_avg = 0\n",
    "        \n",
    "    return salary_avg\n",
    "\n",
    "# Aplicar la función a la columna 'salary_range' y crear una nueva columna 'salary_avg'\n",
    "JOB['salary_avg'] = JOB['salary_range'].apply(get_salary_avg)\n",
    "\n",
    "# Eliminar la columna 'salary_range'\n",
    "JOB.drop(columns=['salary_range'], inplace=True)\n",
    "\n",
    "# Cambiar orden de las columnas y renombrar la columna 'salary_avg' a 'salary_range'\n",
    "# JOB = JOB.reindex(columns=[\n",
    "#     'job_title',\n",
    "#     'category',\n",
    "#     'job_type',\n",
    "#     'onsite_remote',\n",
    "#     'location_name',\n",
    "#     'salary_range',\n",
    "#     'company_name'\n",
    "# ])\n",
    "\n",
    "# JOB.columns = [\n",
    "#     'job_title',\n",
    "#     'category',\n",
    "#     'job_type',\n",
    "#     'onsite_remote',\n",
    "#     'location_name',\n",
    "#     'salary_range',\n",
    "#     'company_name'\n",
    "# ]\n",
    "\n",
    "\n",
    "# Creamos un csv\n",
    "# JOB.to_csv('JOB.csv', index=False)"
   ]
  },
  {
   "cell_type": "markdown",
   "id": "deb85548-4947-4080-bfff-cb2332d1186e",
   "metadata": {},
   "source": [
    "### Codificar las variables categóricas utilizando técnicas como one-hot encoding o label encoding."
   ]
  },
  {
   "cell_type": "code",
   "execution_count": 1228,
   "id": "2a75af16-738f-47c5-a82d-60dee4f7a87b",
   "metadata": {
    "execution": {
     "iopub.execute_input": "2023-04-13T19:38:11.434341Z",
     "iopub.status.busy": "2023-04-13T19:38:11.433769Z",
     "iopub.status.idle": "2023-04-13T19:38:11.443533Z",
     "shell.execute_reply": "2023-04-13T19:38:11.442773Z",
     "shell.execute_reply.started": "2023-04-13T19:38:11.434308Z"
    },
    "tags": []
   },
   "outputs": [
    {
     "name": "stdout",
     "output_type": "stream",
     "text": [
      "      category_name  __Data Analyst  __Data Engineer  __ML  __None  __Others\n",
      "0    Data Scientist               0                1     0       0         0\n",
      "1     Data Engineer               1                0     0       0         0\n",
      "2  Machine Learning               0                0     1       0         0\n",
      "3      Data Analyst               0                0     0       0         1\n",
      "4            Others               0                0     0       1         0\n"
     ]
    }
   ],
   "source": [
    "# Crear dataframe de ejemplo\n",
    "dim_JobCategory = pd.DataFrame({\n",
    "    'category_name': [\n",
    "        'Data Scientist',\n",
    "        'Data Engineer',\n",
    "        'Machine Learning',\n",
    "        'Data Analyst',\n",
    "        'Others'\n",
    "    ],\n",
    "    'type': [\n",
    "        'Data Engineer',\n",
    "        'Data Analyst',\n",
    "        'ML',\n",
    "        'Others',\n",
    "        'None'\n",
    "    ]})\n",
    "\n",
    "# Aplicar one-hot encoding a la variable 'job_type'\n",
    "job_type_dummies = pd.get_dummies(dim_JobCategory['type'], prefix='_')\n",
    "\n",
    "# Unir las columnas dummies al dataframe original\n",
    "dim_JobCategory = pd.concat([dim_JobCategory, job_type_dummies], axis=1)\n",
    "\n",
    "# Eliminar la columna original 'job_type'\n",
    "dim_JobCategory.drop('type', axis=1, inplace=True)\n",
    "\n",
    "# Mostrar el resultado\n",
    "print(dim_JobCategory)"
   ]
  },
  {
   "cell_type": "markdown",
   "id": "c8363a27-20b1-4940-b3a4-64a50f5585d4",
   "metadata": {},
   "source": [
    "### Agrega una columna dim_JobCategory con el cargo extraido de "
   ]
  },
  {
   "cell_type": "code",
   "execution_count": 1229,
   "id": "66c3a33d-49f7-4d72-9626-abe26a63aacb",
   "metadata": {
    "execution": {
     "iopub.execute_input": "2023-04-13T19:38:11.446585Z",
     "iopub.status.busy": "2023-04-13T19:38:11.446194Z",
     "iopub.status.idle": "2023-04-13T19:38:11.455755Z",
     "shell.execute_reply": "2023-04-13T19:38:11.455066Z",
     "shell.execute_reply.started": "2023-04-13T19:38:11.446550Z"
    },
    "tags": []
   },
   "outputs": [
    {
     "name": "stderr",
     "output_type": "stream",
     "text": [
      "/tmp/ipykernel_75162/833218681.py:8: UserWarning: This pattern is interpreted as a regular expression, and has match groups. To actually get the groups, use str.extract.\n",
      "  JOB.loc[JOB['job_title'].str.contains(regex), 'dim_JobCategory'] = JOB['job_title'].str.extract(regex, expand=False).str.lower()\n"
     ]
    }
   ],
   "source": [
    "# Definir la expresión regular para encontrar los títulos que hagan match\n",
    "regex = re.compile(r'(engineer|analyst|ml)', flags=re.IGNORECASE)\n",
    "\n",
    "# Crear una nueva columna 'dim_JobCategory' en el dataframe JOB, asignando 'data scientist' como valor por defecto.\n",
    "JOB['dim_JobCategory'] = 'data scientist'\n",
    "\n",
    "# Asignar la categoría correspondiente a los títulos que hagan match con la expresión regular\n",
    "JOB.loc[JOB['job_title'].str.contains(regex), 'dim_JobCategory'] = JOB['job_title'].str.extract(regex, expand=False).str.lower()\n",
    "\n",
    "# Mostrar el resultado\n",
    "# JOB"
   ]
  },
  {
   "cell_type": "code",
   "execution_count": 1230,
   "id": "58e69208-195b-42b5-8973-b7453002b517",
   "metadata": {
    "execution": {
     "iopub.execute_input": "2023-04-13T19:38:11.457003Z",
     "iopub.status.busy": "2023-04-13T19:38:11.456673Z",
     "iopub.status.idle": "2023-04-13T19:38:11.468482Z",
     "shell.execute_reply": "2023-04-13T19:38:11.467833Z",
     "shell.execute_reply.started": "2023-04-13T19:38:11.456978Z"
    },
    "tags": []
   },
   "outputs": [
    {
     "name": "stderr",
     "output_type": "stream",
     "text": [
      "/tmp/ipykernel_75162/3568789087.py:8: UserWarning: This pattern is interpreted as a regular expression, and has match groups. To actually get the groups, use str.extract.\n",
      "  JOB.loc[JOB['location_name'].str.contains(regex), 'onsite_remote'] = JOB['location_name'].str.extract(regex, expand=False).str.lower()\n"
     ]
    }
   ],
   "source": [
    "# Definir la expresión regular para encontrar los títulos que hagan match\n",
    "regex = re.compile(r'(remote)', flags=re.IGNORECASE)\n",
    "\n",
    "# Crear una nueva columna 'onsite_remote' en el dataframe JOB, asignando 'onsite' como valor por defecto\n",
    "JOB['onsite_remote'] = 'onsite'\n",
    "\n",
    "# Asignar la categoría correspondiente a los títulos que hagan match con la expresión regular\n",
    "JOB.loc[JOB['location_name'].str.contains(regex), 'onsite_remote'] = JOB['location_name'].str.extract(regex, expand=False).str.lower()\n",
    "\n",
    "# Cambiar orden de las columnas y renombrar a columna '\n",
    "JOB = JOB.reindex(columns=[\n",
    "    'job_title',\n",
    "    'level',\n",
    "    'job_type',\n",
    "    'salary_avg',\n",
    "    'benefits',\n",
    "    'onsite_remote',\n",
    "    'dim_JobCategory',\n",
    "    'company_name',\n",
    "    'location_name',\n",
    "    'skill_name',   \n",
    "    \n",
    "])\n",
    "\n",
    "JOB.columns = ([\n",
    "    'job_title',\n",
    "    'level',\n",
    "    'job_type',\n",
    "    'salary_avg',\n",
    "    'benefits',\n",
    "    'onsite_remote',\n",
    "    'dim_JobCategory',\n",
    "    'dim_Company',\n",
    "    'dim_Location',\n",
    "    'dim_Skills',\n",
    "])\n",
    "\n",
    "# Crea un csv con toda la info\n",
    "JOB.to_csv('./data/job.csv', index=False)"
   ]
  }
 ],
 "metadata": {
  "kernelspec": {
   "display_name": "Python 3 (ipykernel)",
   "language": "python",
   "name": "python3"
  },
  "language_info": {
   "codemirror_mode": {
    "name": "ipython",
    "version": 3
   },
   "file_extension": ".py",
   "mimetype": "text/x-python",
   "name": "python",
   "nbconvert_exporter": "python",
   "pygments_lexer": "ipython3",
   "version": "3.10.10"
  }
 },
 "nbformat": 4,
 "nbformat_minor": 5
}
