{
 "cells": [
  {
   "cell_type": "markdown",
   "id": "42673761-7278-4bd0-ab5a-33a7c898bdf3",
   "metadata": {},
   "source": [
    "# ETL sobre Mercado Laboral de Data sobre csv de Kaggle"
   ]
  },
  {
   "cell_type": "markdown",
   "id": "08656a65-86bc-4979-bdec-3c60671f8390",
   "metadata": {},
   "source": [
    "## Librerias e instalacones"
   ]
  },
  {
   "cell_type": "code",
   "execution_count": null,
   "id": "09732027-6df3-4eef-99e6-70d14def45a8",
   "metadata": {},
   "outputs": [],
   "source": [
    "!pip install missingno\n",
    "# !pip install missingno --upgrade\n",
    "!pip install country_converter\n"
   ]
  },
  {
   "cell_type": "code",
   "execution_count": null,
   "id": "f0cd8adc-9e18-420b-b64f-aac35aa39360",
   "metadata": {},
   "outputs": [],
   "source": [
    "# data\n",
    "import pandas as pd\n",
    "import numpy as np\n",
    "import country_converter as coco\n",
    "\n",
    "# visualizacion\n",
    "import plotly.express as px\n",
    "import missingno as msno\n",
    "import matplotlib.pyplot as plt\n",
    "import matplotlib as mpl\n",
    "import plotly.graph_objects as go\n",
    "import plotly.figure_factory as ff"
   ]
  },
  {
   "cell_type": "markdown",
   "id": "05b4c71e-419f-4950-aff6-070b5c73888e",
   "metadata": {},
   "source": [
    "## 1. Identificar las fuentes de datos"
   ]
  },
  {
   "cell_type": "markdown",
   "id": "7c930159-380e-4649-8fd8-605966564bf3",
   "metadata": {},
   "source": [
    "### utilizamos el csv de Kaggle sobre sobre mercado laboral de Data"
   ]
  },
  {
   "cell_type": "markdown",
   "id": "5c9d73e2-5a08-4227-8627-c402b66525a1",
   "metadata": {},
   "source": [
    "Referencias:\n",
    "\n",
    "work_year: Año en que se pagó el salario\n",
    "experience_level: Nivel de experiencia laboral:\n",
    "EN = Inicial / Junior\n",
    "MI = Medio / Intermedio\n",
    "SE = Superior / Experto\n",
    "EX = Ejecutivo / Director\n",
    "employnment_type: Rango de dedicación en el rol\n",
    "PT = Parcial\n",
    "FT = Completo\n",
    "CT = Contratado\n",
    "FL = Independiente\n",
    "job_title: Rol en el que se dempeño en el trabajo\n",
    "salary: Monto total del salario en bruto\n",
    "salary_currency: Moneda del salario pagado como un codígo IS 4217\n",
    "salary_in_usd: Salario en Dolares\n",
    "employee_residence: País de residencia principal del empleado\n",
    "remote_ratio: Cantidad de trabajo realizado de forma remota:\n",
    "0 = Menos del 20%\n",
    "50 = Parcialmente remoto\n",
    "100 = Totalmente remoto\n",
    "company_location: País de la oficina principal del contratante\n",
    "company_size: Numero promedio de personas que trabajaron en ese periódo\n",
    "S = menos de 50 empleados\n",
    "M = 50 a 250 empleados\n",
    "L = más de 250"
   ]
  },
  {
   "cell_type": "markdown",
   "id": "10c7adaa-3279-4350-8348-6c9538edf74c",
   "metadata": {},
   "source": [
    "## 2. Extraer los datos"
   ]
  },
  {
   "cell_type": "code",
   "execution_count": null,
   "id": "62cf0301-b305-4135-9671-11961ed5bf7a",
   "metadata": {},
   "outputs": [],
   "source": [
    "df = pd.read_csv('../data/ds_salaries.csv')"
   ]
  },
  {
   "cell_type": "markdown",
   "id": "912856bc-a2dd-4074-82a8-f32bd0b74b43",
   "metadata": {},
   "source": [
    "## 3. Limpiar y Transformar los datos"
   ]
  },
  {
   "cell_type": "code",
   "execution_count": null,
   "id": "87ed263d-ea52-4c4c-be46-c3b9d1e68397",
   "metadata": {},
   "outputs": [],
   "source": [
    "df.head()"
   ]
  },
  {
   "cell_type": "code",
   "execution_count": null,
   "id": "3bb88030-d5b7-48cb-af4b-8e4f29d402c9",
   "metadata": {},
   "outputs": [],
   "source": [
    "# Establecer el tema oscuro para matplotlib\n",
    "plt.style.use('dark_background')\n",
    "\n",
    "# Comprobamos graficamente si hay valores perdidos\n",
    "msno.matrix(df, color=(0, 204/255, 0))\n",
    "plt.title('Valores perdidos', fontsize=30, fontstyle='oblique')\n",
    "plt.show()"
   ]
  },
  {
   "cell_type": "markdown",
   "id": "c2a78fe1-a7c7-49a8-83cf-d6243f09c224",
   "metadata": {},
   "source": [
    "No hay valores perdidos gracias al trabajo de web scraping"
   ]
  },
  {
   "cell_type": "markdown",
   "id": "98217531-b0f8-4841-82f2-ee65978c05be",
   "metadata": {},
   "source": [
    "## Trabajo por año"
   ]
  },
  {
   "cell_type": "code",
   "execution_count": null,
   "id": "e798e3de-9054-4375-9156-b38fb7ec2f59",
   "metadata": {},
   "outputs": [],
   "source": [
    "max_value = max(df['work_year'].value_counts())\n",
    "wkyear = df['work_year'].value_counts()\n",
    "\n",
    "fig = px.pie(values=wkyear.values, \n",
    "             names=wkyear.index, \n",
    "             color_discrete_map={str(value): 'gray' for value in wkyear.values},\n",
    "             title= \"Mercado laboral por año\",\n",
    "             template='plotly_dark')\n",
    "\n",
    "fig.update_traces(textinfo='label+percent+value', textfont_size=18,\n",
    "                  marker=dict(line=dict(color='#100000', width=0.2)))\n",
    "\n",
    "fig.data[0].marker.line.width = 3\n",
    "fig.data[0].marker.line.color='gray'\n",
    "fig.update_traces(hoverinfo='label+percent',\n",
    "                  marker=dict(colors=['green' if v == max_value else 'gray' for v in wkyear.values],\n",
    "                              line=dict(color='#100000', width=0.2)))\n",
    "\n",
    "fig.update_layout(font=dict(size=20,family=\"Franklin Gothic\"), title_x=0.5)\n",
    "fig.show()"
   ]
  },
  {
   "cell_type": "markdown",
   "id": "5de2115d-3553-4cbe-9b20-1c757a38cc4a",
   "metadata": {},
   "source": [
    "## Niveles de experiencias"
   ]
  },
  {
   "cell_type": "code",
   "execution_count": null,
   "id": "dc4ffb4d-819d-4a87-8e31-3c6b8f311ea2",
   "metadata": {},
   "outputs": [],
   "source": [
    "ex_level = df['experience_level'].value_counts()\n",
    "\n",
    "fig = px.treemap(ex_level, \n",
    "                 path=[ex_level.index],\n",
    "                 values=ex_level.values, \n",
    "                 title='Nivel de experiencia',\n",
    "                 color=ex_level.values,\n",
    "                 color_continuous_scale=['gray', 'green'],\n",
    "                 color_continuous_midpoint=np.average(ex_level.values),\n",
    "                 template='plotly_dark',\n",
    "                 width=1000, height=500)\n",
    "\n",
    "percents = np.sort(np.round((100*ex_level.values / sum(ex_level.values)).tolist(),2))\n",
    "print(np.sort(percents))\n",
    "\n",
    "fig.update_traces(\n",
    "    textposition='middle center',\n",
    "    texttemplate='%{label}<br>%{value}<br>%{customdata}',\n",
    "    hovertemplate='<b>%{label}</b><br>'+'<b>%{value}</b> (%{customdata})',\n",
    "    customdata=percents\n",
    ")\n",
    "\n",
    "fig.update_layout(\n",
    "    font=dict(size=19,family=\"Franklin Gothic\"),\n",
    "    title_x=0.5\n",
    ")\n",
    "\n",
    "fig.show()\n",
    "\n",
    "# hay que revisar bien los porcentajes en la grafica"
   ]
  },
  {
   "cell_type": "markdown",
   "id": "0eab4235-8b60-4401-9854-a8e5f849bbba",
   "metadata": {},
   "source": [
    "## Tipo de Empleo"
   ]
  },
  {
   "cell_type": "code",
   "execution_count": null,
   "id": "4263f750-5206-4eea-bfb0-40b94450c2f9",
   "metadata": {},
   "outputs": [],
   "source": [
    "type_grouped = df['employment_type'].value_counts()\n",
    "e_type = ['Full-Time','Part-Time','Contratado','Independiente']\n",
    "\n",
    "fig = px.bar(\n",
    "    x=e_type, \n",
    "    y=type_grouped.values, \n",
    "    color=type_grouped.values,\n",
    "    color_continuous_scale=px.colors.sequential.Greens,\n",
    "    color_continuous_midpoint=max(type_grouped.values),\n",
    "    template='plotly_dark',\n",
    "    text=type_grouped.values,\n",
    "    title='Tiempo dedicado al trabajo'\n",
    ")\n",
    "\n",
    "fig.update_layout(\n",
    "    xaxis_title=\"Tiempo dedicado\",\n",
    "    yaxis_title=\"cantidad\",\n",
    "    font=dict(size=17, family=\"Franklin Gothic\"),\n",
    "    title_x=0.5\n",
    ")\n",
    "\n",
    "fig.update_traces(width=0.5)\n",
    "\n",
    "fig.show()"
   ]
  },
  {
   "cell_type": "markdown",
   "id": "97945961-2a6d-4af1-a401-afd288f35f02",
   "metadata": {},
   "source": [
    "## Especialidades de trabajo"
   ]
  },
  {
   "cell_type": "code",
   "execution_count": null,
   "id": "fe160b9b-7e48-4ae2-8006-6c2e7c9fa9b8",
   "metadata": {},
   "outputs": [],
   "source": [
    "top10_job_title = df['job_title'].value_counts()[:10]\n",
    "\n",
    "fig = px.bar(y=top10_job_title.values, \n",
    "             x=top10_job_title.index, \n",
    "             color = top10_job_title.index,\n",
    "             color_discrete_sequence=px.colors.sequential.Greens_r,\n",
    "             text=top10_job_title.values,\n",
    "             title= 'Top 10 de trabajos de Data',\n",
    "             template= 'plotly_dark')\n",
    "fig.update_layout(\n",
    "    xaxis_title=\"Especialidades\",\n",
    "    yaxis_title=\"cantidades\",\n",
    "    font = dict(size=17,family=\"Franklin Gothic\"), title_x=0.5)\n",
    "fig.show()"
   ]
  },
  {
   "cell_type": "markdown",
   "id": "88ecd22a-36c4-4029-ae37-ff4240acdab0",
   "metadata": {},
   "source": [
    "## Salario en Dolares"
   ]
  },
  {
   "cell_type": "code",
   "execution_count": null,
   "id": "3b4783eb-f9f9-4c55-8856-484a2cfbdea7",
   "metadata": {},
   "outputs": [],
   "source": [
    "hist_data = [df['salary_in_usd']]\n",
    "group_labels = ['salary_in_usd']\n",
    "\n",
    "fig1 = px.box(y=df['salary_in_usd'], color_discrete_sequence=['#2ca02c'], template='plotly_dark', \n",
    "              title='Salarios en USD (BoxPlot)')\n",
    "fig1.update_layout(font=dict(size=17, family=\"Franklin Gothic\"), title_x=0.5)\n",
    "fig1.show()"
   ]
  },
  {
   "cell_type": "code",
   "execution_count": null,
   "id": "54e9aad7-33f1-4e2f-b8af-293823718ffa",
   "metadata": {},
   "outputs": [],
   "source": [
    "fig2 = ff.create_distplot(hist_data, group_labels, show_hist=False, colors=['#2ca02c'])\n",
    "fig2.layout.template = 'plotly_dark'\n",
    "fig2.update_layout(legend={'traceorder':'reversed'}) # Define una leyenda vacía para la figura de distribución\n",
    "\n",
    "fig2.update_layout(title='Salarios en USD (DistPlot)', font=dict(size=17, family=\"Franklin Gothic\"), \n",
    "                   title_x=0.5, showlegend=False) \n",
    "\n",
    "fig2.show()"
   ]
  },
  {
   "cell_type": "markdown",
   "id": "850424f4-8643-4674-8da1-b489c186e104",
   "metadata": {},
   "source": [
    "## Residencia de empleo y Localidad de la Empresa"
   ]
  },
  {
   "cell_type": "code",
   "execution_count": null,
   "id": "ac276349-b9e6-49de-a3b9-2fd700683387",
   "metadata": {},
   "outputs": [],
   "source": [
    "converted_country = coco.convert(names=df['employee_residence'], to=\"ISO3\")\n",
    "df['employee_residence'] = converted_country"
   ]
  },
  {
   "cell_type": "code",
   "execution_count": null,
   "id": "f10c6681-0693-41e7-9763-8eb368203d27",
   "metadata": {},
   "outputs": [],
   "source": [
    "residence = df['employee_residence'].value_counts()\n",
    "\n",
    "fig = px.choropleth(locations=residence.index,\n",
    "                    color=residence.values,\n",
    "                    color_continuous_scale=px.colors.sequential.Greens,\n",
    "                    template='plotly_dark',\n",
    "                    title='Mapa de distribución de Empleos',\n",
    "                    width=1000)\n",
    "\n",
    "fig.update_layout(font=dict(size=16, family=\"Franklin Gothic\"), title_x=0.5)\n",
    "\n",
    "# No puedo eliminar la barra de colores y leyenda lateral\n",
    "\n",
    "fig.show()"
   ]
  },
  {
   "cell_type": "code",
   "execution_count": null,
   "id": "44e0b5a7-d437-4def-bf42-931156fccde8",
   "metadata": {},
   "outputs": [],
   "source": [
    "top10_employee_location = residence[:10]\n",
    "fig = px.bar(y=top10_employee_location.values, \n",
    "             x=top10_employee_location.index, \n",
    "             color = top10_employee_location.index,\n",
    "             color_discrete_sequence=px.colors.sequential.Greens_r,\n",
    "             text=top10_employee_location.values,\n",
    "             title= 'Top 10 de Paises',\n",
    "             template= 'plotly_dark')\n",
    "fig.update_layout(\n",
    "    xaxis_title=\"paises\",\n",
    "    yaxis_title=\"cantidad\",\n",
    "    font = dict(size=17,family=\"Franklin Gothic\"),\n",
    "title_x=.5,\n",
    "showlegend=False)\n",
    "\n",
    "fig.show()"
   ]
  },
  {
   "cell_type": "code",
   "execution_count": null,
   "id": "11a3fd27-c638-41e9-ae53-83b1218254cd",
   "metadata": {},
   "outputs": [],
   "source": [
    "converted_country = coco.convert(names=df['company_location'], to=\"ISO3\")\n",
    "df['company_location'] = converted_country\n",
    "c_location = df['company_location'].value_counts()\n",
    "top_10_company_location = c_location[:10]\n",
    "\n",
    "fig = go.Figure(data=[\n",
    "    go.Bar(name='Employee Loaction', \n",
    "           x=top10_employee_location.index, y=top10_employee_location.values,\n",
    "           text=top10_employee_location.values, marker_color='#00cc44'),\n",
    "    go.Bar(name='Company Location', x=top_10_company_location.index, \n",
    "           y=top_10_company_location.values,text=top_10_company_location.values, marker_color='#00802b')\n",
    "])\n",
    "\n",
    "fig.update_layout(barmode='group', xaxis_tickangle=-45,\n",
    "                  title='Comparison of Employee Location and Company Location', \n",
    "                  title_x=0.5, template='plotly_dark',\n",
    "                  font=dict(size=17,family=\"Franklin Gothic\"),\n",
    "                  legend=dict(orientation='h', yanchor='bottom', y=1.02, xanchor='center', x=0.5))\n",
    "\n",
    "fig.show()"
   ]
  },
  {
   "cell_type": "markdown",
   "id": "8f74de94-f8e5-4c86-8c9f-a7d17ccfaf8c",
   "metadata": {},
   "source": [
    "## Trabajo remoto"
   ]
  },
  {
   "cell_type": "code",
   "execution_count": null,
   "id": "817351df-f3e5-4a7e-bc77-73ae9e02a4f4",
   "metadata": {},
   "outputs": [],
   "source": [
    "remote_type = ['Remoto','Parcialmente Remoto','Presencial']\n",
    "\n",
    "plt.figure(figsize=(20,5))\n",
    "fig = px.bar(x = ['Remoto','Presencial','Parcialmente Remoto'], \n",
    "       y = df['remote_ratio'].value_counts().values,\n",
    "       color = remote_type,\n",
    "       color_discrete_sequence=px.colors.sequential.Greens_r,\n",
    "       text=df['remote_ratio'].value_counts().values,\n",
    "       title = 'Trabajo remoto',\n",
    "       template='plotly_dark')\n",
    "\n",
    "fig.update_traces(width=0.4)\n",
    "\n",
    "fig.data[0].marker.line.width = 2\n",
    "\n",
    "\n",
    "fig.update_layout(\n",
    "    xaxis_title=\"Remoto / Presencial\",\n",
    "    yaxis_title=\"cantidad\",\n",
    "    font = dict(size=17,family=\"Franklin Gothic\"),\n",
    "title_x=.5)\n",
    "fig.show()"
   ]
  },
  {
   "cell_type": "markdown",
   "id": "3c86e433-684a-439a-8769-41f9e4c553f1",
   "metadata": {
    "execution": {
     "iopub.execute_input": "2023-04-14T12:13:25.399341Z",
     "iopub.status.busy": "2023-04-14T12:13:25.398782Z",
     "iopub.status.idle": "2023-04-14T12:13:25.402944Z",
     "shell.execute_reply": "2023-04-14T12:13:25.402051Z",
     "shell.execute_reply.started": "2023-04-14T12:13:25.399311Z"
    },
    "tags": []
   },
   "source": [
    "## Tamaño de compañia"
   ]
  },
  {
   "cell_type": "code",
   "execution_count": null,
   "id": "7f299a6d-9db5-418e-a0eb-5e0c7ad2f6aa",
   "metadata": {},
   "outputs": [],
   "source": [
    "grouped_size = df['company_size'].value_counts()\n",
    "\n",
    "fig = px.bar(y=grouped_size.values, \n",
    "             x=grouped_size.index, \n",
    "             color = grouped_size.index,\n",
    "             color_discrete_sequence=px.colors.sequential.Greens_r,\n",
    "             text=grouped_size.values,\n",
    "             title= 'Tamaño de Compañias',\n",
    "             template= 'plotly_dark')\n",
    "\n",
    "fig.update_traces(width=0.4)\n",
    "fig.update_layout(\n",
    "    xaxis_title=\"tamaño de compañia\",\n",
    "    yaxis_title=\"cantidad\",\n",
    "    font = dict(size=17,family=\"Franklin Gothic\"),\n",
    "title_x=0.5)\n",
    "fig.show()"
   ]
  },
  {
   "cell_type": "markdown",
   "id": "9d792e11-d2aa-4d5f-b6a8-92d0c3de255a",
   "metadata": {},
   "source": [
    "# Para Hacer"
   ]
  },
  {
   "cell_type": "markdown",
   "id": "f294b97e-b5bc-454e-b143-a6151ca65692",
   "metadata": {},
   "source": [
    "4. Cargar los datos"
   ]
  },
  {
   "cell_type": "markdown",
   "id": "439d5e34-0e2a-45ea-a4ff-36490c74e558",
   "metadata": {},
   "source": [
    "5. Verificar la integridad de los datos"
   ]
  },
  {
   "cell_type": "markdown",
   "id": "33d37f08-3ae6-44f5-a417-c0b568c990bd",
   "metadata": {},
   "source": [
    "6. Automatizar el proceso"
   ]
  },
  {
   "cell_type": "markdown",
   "id": "e0f1ec11-d2c8-4f7d-b8a9-2df83ca3bdf7",
   "metadata": {},
   "source": [
    "7. Mantener el proceso (test y actualizaciones)"
   ]
  }
 ],
 "metadata": {
  "kernelspec": {
   "display_name": "Python 3 (ipykernel)",
   "language": "python",
   "name": "python3"
  },
  "language_info": {
   "codemirror_mode": {
    "name": "ipython",
    "version": 3
   },
   "file_extension": ".py",
   "mimetype": "text/x-python",
   "name": "python",
   "nbconvert_exporter": "python",
   "pygments_lexer": "ipython3",
   "version": "3.10.10"
  }
 },
 "nbformat": 4,
 "nbformat_minor": 5
}
